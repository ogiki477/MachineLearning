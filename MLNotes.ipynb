{
 "cells": [
  {
   "attachments": {},
   "cell_type": "markdown",
   "metadata": {},
   "source": [
    "### ML Notes"
   ]
  },
  {
   "cell_type": "code",
   "execution_count": null,
   "metadata": {},
   "outputs": [],
   "source": [
    "\"\"\" \n",
    "\n",
    "1. Split\n",
    "We always have two data splits \n",
    "\n",
    "The independent variables and independent variables\n",
    "\n",
    "The independent variables are stored mostly in X and the dependent variables are stored in Y \n",
    "\n",
    "When there are columns that lead to another.\n",
    "\n",
    "\n",
    "Fit takes the parameters for the input features and the independent features \n",
    "\n",
    "2. Model training \n",
    "\n",
    "3.Model evaluation\n",
    "predictions \n",
    "acurracy = acurracy_score(y_test,predictions)\n",
    "\n",
    "\n",
    "\n",
    "\"\"\""
   ]
  }
 ],
 "metadata": {
  "kernelspec": {
   "display_name": "Python 3",
   "language": "python",
   "name": "python3"
  },
  "language_info": {
   "name": "python",
   "version": "3.10.6"
  },
  "orig_nbformat": 4
 },
 "nbformat": 4,
 "nbformat_minor": 2
}
